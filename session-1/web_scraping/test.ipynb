{
 "cells": [
  {
   "cell_type": "code",
   "execution_count": 82,
   "metadata": {},
   "outputs": [],
   "source": [
    "from requests_html import HTMLSession\n",
    "\n",
    "url = \"https://www.prothomalo.com/bangladesh/k4fpzemipc\"\n",
    "\n",
    "session = HTMLSession()\n",
    "response = session.get(url)\n",
    "# title = response.html.find('h1', first=True).text\n",
    "# links = response.html.find('a')\n",
    "# for link in links:\n",
    "    # print(link)\n",
    "    # print(link.text, link.attrs['href'])\n",
    "\n",
    "\n",
    "\n"
   ]
  },
  {
   "cell_type": "code",
   "execution_count": 84,
   "metadata": {},
   "outputs": [
    {
     "data": {
      "text/plain": [
       "'নিজস্ব প্রতিবেদক'"
      ]
     },
     "execution_count": 84,
     "metadata": {},
     "output_type": "execute_result"
    }
   ],
   "source": [
    "response.html.find('.contributor-name', first=True).text"
   ]
  },
  {
   "cell_type": "code",
   "execution_count": 92,
   "metadata": {},
   "outputs": [
    {
     "data": {
      "text/plain": [
       "'https://www.prothomalo.com/bangladesh'"
      ]
     },
     "execution_count": 92,
     "metadata": {},
     "output_type": "execute_result"
    }
   ],
   "source": [
    "category_elem = response.html.find('div.print-entity-section-wrapper > a', first=True)\n",
    "category_elem.attrs['href']"
   ]
  },
  {
   "cell_type": "code",
   "execution_count": null,
   "metadata": {},
   "outputs": [],
   "source": []
  },
  {
   "cell_type": "code",
   "execution_count": null,
   "metadata": {},
   "outputs": [],
   "source": []
  },
  {
   "cell_type": "code",
   "execution_count": 99,
   "metadata": {},
   "outputs": [
    {
     "data": {
      "text/plain": [
       "('তুরস্ক নৌবাহিনীর যুদ্ধজাহাজ চট্টগ্রাম বন্দরে',\n",
       " 'বাংলাদেশ',\n",
       " '2024-05-07T21:50:08+06:00',\n",
       " 'নিজস্ব প্রতিবেদক',\n",
       " 'তিন দিনের শুভেচ্ছা সফরে বাংলাদেশে এসে পৌঁছেছে তুরস্ক নৌবাহিনীর জাহাজ ‘টিসিজি কিনালিয়াদা’। আজ মঙ্গলবার জাহাজটি চট্টগ্রাম বন্দরের জেটিতে ভেড়ে।\\nকমান্ডার চট্টগ্রাম নৌ অঞ্চলের চিফ স্টাফ অফিসার ক্যাপ্টেন এম আসাদুজ্জামান জাহাজটিকে স্বাগত জানান। আন্তঃবাহিনী জনসংযোগ পরিদপ্তর (আইএসপিআর) এক সংবাদ বিজ্ঞপ্তিতে এ তথ্য জানায়।\\nআইএসপিআর জানিয়েছে, জাহাজটি স্বাগত জানাতে নৌবাহিনীর সুসজ্জিত বাদক দল ঐতিহ্যবাহী রীতিতে ব্যান্ড পরিবেশন করে। এ সময় অন্যদের মধ্যে বাংলাদেশে নিযুক্ত তুরস্কের হাইকমিশনের প্রতিনিধিসহ নৌবাহিনীর পদস্থ কর্মকর্তা ও নাবিকেরা উপস্থিত ছিলেন।\\nসংবাদ বিজ্ঞপ্তিতে আরও জানানো হয়েছে, সফরকালে জাহাজটির অধিনায়ক এবং বাংলাদেশে নিযুক্ত তুরস্কের হাইকমিশনের প্রতিনিধিরা কমান্ডার চট্টগ্রাম নৌ অঞ্চল, কমান্ডার বিএন ফ্লিট, চট্টগ্রাম বন্দরের চেয়ারম্যানসহ অন্যান্য ঊর্ধ্বতন সামরিক ও বেসামরিক কর্মকর্তাদের সঙ্গে সৌজন্য সাক্ষাৎ করবেন।\\nচট্টগ্রাম নৌ অঞ্চলে অবস্থানকালীন সফরকারী জাহাজের কর্মকর্তা ও নাবিকেরা চট্টগ্রামে অবস্থিত নৌবাহিনীর ঘাঁটি, স্থাপনা ও অন্যান্য দর্শনীয় স্থানসমূহ পরিদর্শন করবেন। শুভেচ্ছা সফর শেষে জাহাজটি ৯ মে বাংলাদেশ ত্যাগ করবে।')"
      ]
     },
     "execution_count": 99,
     "metadata": {},
     "output_type": "execute_result"
    }
   ],
   "source": [
    "title = response.html.find('h1', first=True).text\n",
    "category_element = response.html.find('div.print-entity-section-wrapper')\n",
    "category = category_element[0].find('a', first=True).text\n",
    "\n",
    "datetime_element = response.html.find('time', first=True)\n",
    "news_datetime = datetime_element.attrs['datetime']\n",
    "reporter = response.html.find('.contributor-name', first=True).text\n",
    "\n",
    "news_body_element = response.html.find('p')\n",
    "news_body = \"\\n\".join([p.text for p in news_body_element])\n",
    "title, category, news_datetime, reporter, news_body"
   ]
  },
  {
   "cell_type": "code",
   "execution_count": 100,
   "metadata": {},
   "outputs": [
    {
     "data": {
      "text/plain": [
       "[]"
      ]
     },
     "execution_count": 100,
     "metadata": {},
     "output_type": "execute_result"
    }
   ],
   "source": [
    "response.html.find('img')"
   ]
  },
  {
   "cell_type": "code",
   "execution_count": 103,
   "metadata": {},
   "outputs": [
    {
     "name": "stdout",
     "output_type": "stream",
     "text": [
      "media/cache/2c/da/2cdad67c44b002e7ead0cc35693c0e8b.jpg\n",
      "media/cache/26/0c/260c6ae16bce31c8f8c95daddd9f4a1c.jpg\n",
      "media/cache/3e/ef/3eef99c9d9adef34639f510662022830.jpg\n",
      "media/cache/32/51/3251cf3a3412f53f339e42cac2134093.jpg\n",
      "media/cache/be/a5/bea5697f2534a2f86a3ef27b5a8c12a6.jpg\n",
      "media/cache/68/33/68339b4c9bc034267e1da611ab3b34f8.jpg\n",
      "media/cache/92/27/92274a95b7c251fea59a2b8a78275ab4.jpg\n",
      "media/cache/3d/54/3d54940e57e662c4dd1f3ff00c78cc64.jpg\n",
      "media/cache/66/88/66883b91f6804b2323c8369331cb7dd1.jpg\n",
      "media/cache/58/46/5846057e28022268153beff6d352b06c.jpg\n",
      "media/cache/be/f4/bef44da28c98f905a3ebec0b87be8530.jpg\n",
      "media/cache/10/48/1048f63d3b5061cd2f424d20b3f9b666.jpg\n",
      "media/cache/5b/88/5b88c52633f53cacf162c15f4f823153.jpg\n",
      "media/cache/94/b1/94b1b8b244bce9677c2f29ccc890d4d2.jpg\n",
      "media/cache/81/c4/81c4a973364e17d01f217e1188253d5e.jpg\n",
      "media/cache/54/60/54607fe8945897cdcced0044103b10b6.jpg\n",
      "media/cache/55/33/553310a7162dfbc2c6d19a84da0df9e1.jpg\n",
      "media/cache/09/a3/09a3aef48557576e1a85ba7efea8ecb7.jpg\n",
      "media/cache/0b/bc/0bbcd0a6f4bcd81ccb1049a52736406e.jpg\n",
      "media/cache/27/a5/27a53d0bb95bdd88288eaf66c9230d7e.jpg\n"
     ]
    }
   ],
   "source": [
    "images_element = response.html.find('img')\n",
    "images_element, len(images_element)\n",
    "for images in images_element:\n",
    "    image_url = images.attrs['src']\n",
    "    print(image_url)"
   ]
  },
  {
   "cell_type": "code",
   "execution_count": 101,
   "metadata": {},
   "outputs": [
    {
     "data": {
      "text/plain": [
       "<Response [200]>"
      ]
     },
     "execution_count": 101,
     "metadata": {},
     "output_type": "execute_result"
    }
   ],
   "source": [
    "response = session.get(\"https://books.toscrape.com/\")\n",
    "response"
   ]
  },
  {
   "cell_type": "code",
   "execution_count": 102,
   "metadata": {},
   "outputs": [
    {
     "data": {
      "text/plain": [
       "[<Element 'img' src='media/cache/2c/da/2cdad67c44b002e7ead0cc35693c0e8b.jpg' alt='A Light in the Attic' class=('thumbnail',)>,\n",
       " <Element 'img' src='media/cache/26/0c/260c6ae16bce31c8f8c95daddd9f4a1c.jpg' alt='Tipping the Velvet' class=('thumbnail',)>,\n",
       " <Element 'img' src='media/cache/3e/ef/3eef99c9d9adef34639f510662022830.jpg' alt='Soumission' class=('thumbnail',)>,\n",
       " <Element 'img' src='media/cache/32/51/3251cf3a3412f53f339e42cac2134093.jpg' alt='Sharp Objects' class=('thumbnail',)>,\n",
       " <Element 'img' src='media/cache/be/a5/bea5697f2534a2f86a3ef27b5a8c12a6.jpg' alt='Sapiens: A Brief History of Humankind' class=('thumbnail',)>,\n",
       " <Element 'img' src='media/cache/68/33/68339b4c9bc034267e1da611ab3b34f8.jpg' alt='The Requiem Red' class=('thumbnail',)>,\n",
       " <Element 'img' src='media/cache/92/27/92274a95b7c251fea59a2b8a78275ab4.jpg' alt='The Dirty Little Secrets of Getting Your Dream Job' class=('thumbnail',)>,\n",
       " <Element 'img' src='media/cache/3d/54/3d54940e57e662c4dd1f3ff00c78cc64.jpg' alt='The Coming Woman: A Novel Based on the Life of the Infamous Feminist, Victoria Woodhull' class=('thumbnail',)>,\n",
       " <Element 'img' src='media/cache/66/88/66883b91f6804b2323c8369331cb7dd1.jpg' alt='The Boys in the Boat: Nine Americans and Their Epic Quest for Gold at the 1936 Berlin Olympics' class=('thumbnail',)>,\n",
       " <Element 'img' src='media/cache/58/46/5846057e28022268153beff6d352b06c.jpg' alt='The Black Maria' class=('thumbnail',)>,\n",
       " <Element 'img' src='media/cache/be/f4/bef44da28c98f905a3ebec0b87be8530.jpg' alt='Starving Hearts (Triangular Trade Trilogy, #1)' class=('thumbnail',)>,\n",
       " <Element 'img' src='media/cache/10/48/1048f63d3b5061cd2f424d20b3f9b666.jpg' alt=\"Shakespeare's Sonnets\" class=('thumbnail',)>,\n",
       " <Element 'img' src='media/cache/5b/88/5b88c52633f53cacf162c15f4f823153.jpg' alt='Set Me Free' class=('thumbnail',)>,\n",
       " <Element 'img' src='media/cache/94/b1/94b1b8b244bce9677c2f29ccc890d4d2.jpg' alt=\"Scott Pilgrim's Precious Little Life (Scott Pilgrim #1)\" class=('thumbnail',)>,\n",
       " <Element 'img' src='media/cache/81/c4/81c4a973364e17d01f217e1188253d5e.jpg' alt='Rip it Up and Start Again' class=('thumbnail',)>,\n",
       " <Element 'img' src='media/cache/54/60/54607fe8945897cdcced0044103b10b6.jpg' alt='Our Band Could Be Your Life: Scenes from the American Indie Underground, 1981-1991' class=('thumbnail',)>,\n",
       " <Element 'img' src='media/cache/55/33/553310a7162dfbc2c6d19a84da0df9e1.jpg' alt='Olio' class=('thumbnail',)>,\n",
       " <Element 'img' src='media/cache/09/a3/09a3aef48557576e1a85ba7efea8ecb7.jpg' alt='Mesaerion: The Best Science Fiction Stories 1800-1849' class=('thumbnail',)>,\n",
       " <Element 'img' src='media/cache/0b/bc/0bbcd0a6f4bcd81ccb1049a52736406e.jpg' alt='Libertarianism for Beginners' class=('thumbnail',)>,\n",
       " <Element 'img' src='media/cache/27/a5/27a53d0bb95bdd88288eaf66c9230d7e.jpg' alt=\"It's Only the Himalayas\" class=('thumbnail',)>]"
      ]
     },
     "execution_count": 102,
     "metadata": {},
     "output_type": "execute_result"
    }
   ],
   "source": [
    "response.html.find('img')"
   ]
  },
  {
   "cell_type": "code",
   "execution_count": null,
   "metadata": {},
   "outputs": [],
   "source": []
  },
  {
   "cell_type": "code",
   "execution_count": 77,
   "metadata": {},
   "outputs": [
    {
     "data": {
      "text/plain": [
       "'তুরস্ক নৌবাহিনীর যুদ্ধজাহাজ চট্টগ্রাম বন্দরে'"
      ]
     },
     "execution_count": 77,
     "metadata": {},
     "output_type": "execute_result"
    }
   ],
   "source": [
    "title"
   ]
  },
  {
   "cell_type": "code",
   "execution_count": 78,
   "metadata": {},
   "outputs": [
    {
     "name": "stdout",
     "output_type": "stream",
     "text": [
      "\n",
      "£51.77\n",
      "In stock\n",
      "\n",
      "£53.74\n",
      "In stock\n",
      "\n",
      "£50.10\n",
      "In stock\n",
      "\n",
      "£47.82\n",
      "In stock\n",
      "\n",
      "£54.23\n",
      "In stock\n",
      "\n",
      "£22.65\n",
      "In stock\n",
      "\n",
      "£33.34\n",
      "In stock\n",
      "\n",
      "£17.93\n",
      "In stock\n",
      "\n",
      "£22.60\n",
      "In stock\n",
      "\n",
      "£52.15\n",
      "In stock\n",
      "\n",
      "£13.99\n",
      "In stock\n",
      "\n",
      "£20.66\n",
      "In stock\n",
      "\n",
      "£17.46\n",
      "In stock\n",
      "\n",
      "£52.29\n",
      "In stock\n",
      "\n",
      "£35.02\n",
      "In stock\n",
      "\n",
      "£57.25\n",
      "In stock\n",
      "\n",
      "£23.88\n",
      "In stock\n",
      "\n",
      "£37.59\n",
      "In stock\n",
      "\n",
      "£51.33\n",
      "In stock\n",
      "\n",
      "£45.17\n",
      "In stock\n"
     ]
    }
   ],
   "source": [
    "news_body = []\n",
    "all_p = response.html.find('p')\n",
    "for p in all_p:\n",
    "    # print(p.text)\n",
    "    news_body.append(p.text)\n",
    "news_body = '\\n'.join(news_body)\n",
    "print(news_body)"
   ]
  },
  {
   "cell_type": "code",
   "execution_count": 79,
   "metadata": {},
   "outputs": [
    {
     "ename": "AttributeError",
     "evalue": "'NoneType' object has no attribute 'text'",
     "output_type": "error",
     "traceback": [
      "\u001b[0;31m---------------------------------------------------------------------------\u001b[0m",
      "\u001b[0;31mAttributeError\u001b[0m                            Traceback (most recent call last)",
      "Cell \u001b[0;32mIn[79], line 1\u001b[0m\n\u001b[0;32m----> 1\u001b[0m reporter \u001b[38;5;241m=\u001b[39m \u001b[43mresponse\u001b[49m\u001b[38;5;241;43m.\u001b[39;49m\u001b[43mhtml\u001b[49m\u001b[38;5;241;43m.\u001b[39;49m\u001b[43mfind\u001b[49m\u001b[43m(\u001b[49m\u001b[38;5;124;43m'\u001b[39;49m\u001b[38;5;124;43m.contributor-name\u001b[39;49m\u001b[38;5;124;43m'\u001b[39;49m\u001b[43m,\u001b[49m\u001b[43m \u001b[49m\u001b[43mfirst\u001b[49m\u001b[38;5;241;43m=\u001b[39;49m\u001b[38;5;28;43;01mTrue\u001b[39;49;00m\u001b[43m)\u001b[49m\u001b[38;5;241;43m.\u001b[39;49m\u001b[43mtext\u001b[49m\n\u001b[1;32m      2\u001b[0m reporter_location \u001b[38;5;241m=\u001b[39m response\u001b[38;5;241m.\u001b[39mhtml\u001b[38;5;241m.\u001b[39mfind(\u001b[38;5;124m'\u001b[39m\u001b[38;5;124m.author-location\u001b[39m\u001b[38;5;124m'\u001b[39m, first\u001b[38;5;241m=\u001b[39m\u001b[38;5;28;01mTrue\u001b[39;00m)\u001b[38;5;241m.\u001b[39mtext\n\u001b[1;32m      3\u001b[0m datetime \u001b[38;5;241m=\u001b[39m response\u001b[38;5;241m.\u001b[39mhtml\u001b[38;5;241m.\u001b[39mfind(\u001b[38;5;124m'\u001b[39m\u001b[38;5;124mtime\u001b[39m\u001b[38;5;124m'\u001b[39m, first\u001b[38;5;241m=\u001b[39m\u001b[38;5;28;01mTrue\u001b[39;00m)\u001b[38;5;241m.\u001b[39mtext\n",
      "\u001b[0;31mAttributeError\u001b[0m: 'NoneType' object has no attribute 'text'"
     ]
    }
   ],
   "source": [
    "reporter = response.html.find('.contributor-name', first=True).text\n",
    "reporter_location = response.html.find('.author-location', first=True).text\n",
    "datetime = response.html.find('time', first=True).text\n",
    "category = response.html.find('.print-entity-section-wrapper', first=True).text\n",
    "reporter, reporter_location, datetime, category"
   ]
  },
  {
   "cell_type": "code",
   "execution_count": null,
   "metadata": {},
   "outputs": [],
   "source": [
    "images = response.html.find('#f91ea423-844b-4374-b73b-6abdeac72a51 > div.storyCard.eyOoS > div:nth-child(2) > div > div:nth-child(1) > div > figure > picture > img')"
   ]
  },
  {
   "cell_type": "code",
   "execution_count": null,
   "metadata": {},
   "outputs": [],
   "source": []
  }
 ],
 "metadata": {
  "kernelspec": {
   "display_name": "base",
   "language": "python",
   "name": "python3"
  },
  "language_info": {
   "codemirror_mode": {
    "name": "ipython",
    "version": 3
   },
   "file_extension": ".py",
   "mimetype": "text/x-python",
   "name": "python",
   "nbconvert_exporter": "python",
   "pygments_lexer": "ipython3",
   "version": "3.11.7"
  }
 },
 "nbformat": 4,
 "nbformat_minor": 2
}
